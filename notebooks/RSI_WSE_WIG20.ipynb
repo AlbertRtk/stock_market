{
 "cells": [
  {
   "cell_type": "markdown",
   "metadata": {},
   "source": [
    "# RSI efficiency on Warsaw Stock Exchange based on WIG20"
   ]
  },
  {
   "cell_type": "code",
   "execution_count": 1,
   "metadata": {},
   "outputs": [],
   "source": [
    "\"\"\" append parent dir to sys.path for local imports \"\"\"\n",
    "import sys\n",
    "if '..\\\\' not in sys.path: sys.path.append('..\\\\')   \n",
    "\n",
    "import pandas as pd\n",
    "import matplotlib.pyplot as plt\n",
    "import seaborn as sns\n",
    "import mplfinance as mpf\n",
    "from stocks.stock import Stock\n",
    "from stocks.stock_index import wig20\n",
    "from analysis.rsi import rsi, rsi_cross_signals\n",
    "sns.set()"
   ]
  },
  {
   "cell_type": "markdown",
   "metadata": {},
   "source": [
    "## Time range of interest"
   ]
  },
  {
   "cell_type": "code",
   "execution_count": 2,
   "metadata": {},
   "outputs": [],
   "source": [
    "start_date = '2019-01-01'\n",
    "end_date = '2019-12-31'\n",
    "\n",
    "time_range = pd.date_range(start_date, end_date)"
   ]
  },
  {
   "cell_type": "markdown",
   "metadata": {},
   "source": [
    "## Get OHLC information, and calculate RSI and signals"
   ]
  },
  {
   "cell_type": "code",
   "execution_count": 3,
   "metadata": {},
   "outputs": [
    {
     "data": {
      "text/html": [
       "<div>\n",
       "<style scoped>\n",
       "    .dataframe tbody tr th:only-of-type {\n",
       "        vertical-align: middle;\n",
       "    }\n",
       "\n",
       "    .dataframe tbody tr th {\n",
       "        vertical-align: top;\n",
       "    }\n",
       "\n",
       "    .dataframe thead th {\n",
       "        text-align: right;\n",
       "    }\n",
       "</style>\n",
       "<table border=\"1\" class=\"dataframe\">\n",
       "  <thead>\n",
       "    <tr style=\"text-align: right;\">\n",
       "      <th></th>\n",
       "      <th>Date</th>\n",
       "      <th>Ticker</th>\n",
       "      <th>Open</th>\n",
       "      <th>High</th>\n",
       "      <th>Low</th>\n",
       "      <th>Close</th>\n",
       "      <th>Volume</th>\n",
       "      <th>RSI</th>\n",
       "      <th>Buy</th>\n",
       "      <th>Sell</th>\n",
       "    </tr>\n",
       "  </thead>\n",
       "  <tbody>\n",
       "  </tbody>\n",
       "</table>\n",
       "</div>"
      ],
      "text/plain": [
       "Empty DataFrame\n",
       "Columns: [Date, Ticker, Open, High, Low, Close, Volume, RSI, Buy, Sell]\n",
       "Index: []"
      ]
     },
     "execution_count": 3,
     "metadata": {},
     "output_type": "execute_result"
    }
   ],
   "source": [
    "stock_data = pd.DataFrame(columns=['Date', 'Ticker', 'Open', 'High', 'Low', 'Close', 'Volume', 'RSI', 'Buy', 'Sell'])\n",
    "stock_data"
   ]
  },
  {
   "cell_type": "code",
   "execution_count": 4,
   "metadata": {},
   "outputs": [
    {
     "data": {
      "text/html": [
       "<div>\n",
       "<style scoped>\n",
       "    .dataframe tbody tr th:only-of-type {\n",
       "        vertical-align: middle;\n",
       "    }\n",
       "\n",
       "    .dataframe tbody tr th {\n",
       "        vertical-align: top;\n",
       "    }\n",
       "\n",
       "    .dataframe thead th {\n",
       "        text-align: right;\n",
       "    }\n",
       "</style>\n",
       "<table border=\"1\" class=\"dataframe\">\n",
       "  <thead>\n",
       "    <tr style=\"text-align: right;\">\n",
       "      <th></th>\n",
       "      <th>Date</th>\n",
       "      <th>Ticker</th>\n",
       "      <th>Open</th>\n",
       "      <th>High</th>\n",
       "      <th>Low</th>\n",
       "      <th>Close</th>\n",
       "      <th>Volume</th>\n",
       "      <th>RSI</th>\n",
       "      <th>Buy</th>\n",
       "      <th>Sell</th>\n",
       "    </tr>\n",
       "  </thead>\n",
       "  <tbody>\n",
       "    <tr>\n",
       "      <th>0</th>\n",
       "      <td>2019-01-02</td>\n",
       "      <td>ALR</td>\n",
       "      <td>53.150</td>\n",
       "      <td>55.150</td>\n",
       "      <td>52.900</td>\n",
       "      <td>55.000</td>\n",
       "      <td>187429.0</td>\n",
       "      <td>50.219851</td>\n",
       "      <td>False</td>\n",
       "      <td>False</td>\n",
       "    </tr>\n",
       "    <tr>\n",
       "      <th>1</th>\n",
       "      <td>2019-01-03</td>\n",
       "      <td>ALR</td>\n",
       "      <td>55.000</td>\n",
       "      <td>55.000</td>\n",
       "      <td>53.300</td>\n",
       "      <td>53.400</td>\n",
       "      <td>219807.0</td>\n",
       "      <td>45.128856</td>\n",
       "      <td>False</td>\n",
       "      <td>False</td>\n",
       "    </tr>\n",
       "    <tr>\n",
       "      <th>2</th>\n",
       "      <td>2019-01-04</td>\n",
       "      <td>ALR</td>\n",
       "      <td>53.900</td>\n",
       "      <td>55.000</td>\n",
       "      <td>53.900</td>\n",
       "      <td>54.750</td>\n",
       "      <td>127074.0</td>\n",
       "      <td>49.756946</td>\n",
       "      <td>False</td>\n",
       "      <td>False</td>\n",
       "    </tr>\n",
       "    <tr>\n",
       "      <th>3</th>\n",
       "      <td>2019-01-07</td>\n",
       "      <td>ALR</td>\n",
       "      <td>55.050</td>\n",
       "      <td>56.200</td>\n",
       "      <td>54.800</td>\n",
       "      <td>56.200</td>\n",
       "      <td>187654.0</td>\n",
       "      <td>54.223000</td>\n",
       "      <td>False</td>\n",
       "      <td>False</td>\n",
       "    </tr>\n",
       "    <tr>\n",
       "      <th>4</th>\n",
       "      <td>2019-01-08</td>\n",
       "      <td>ALR</td>\n",
       "      <td>55.650</td>\n",
       "      <td>56.200</td>\n",
       "      <td>54.900</td>\n",
       "      <td>55.950</td>\n",
       "      <td>168800.0</td>\n",
       "      <td>53.342603</td>\n",
       "      <td>False</td>\n",
       "      <td>False</td>\n",
       "    </tr>\n",
       "    <tr>\n",
       "      <th>...</th>\n",
       "      <td>...</td>\n",
       "      <td>...</td>\n",
       "      <td>...</td>\n",
       "      <td>...</td>\n",
       "      <td>...</td>\n",
       "      <td>...</td>\n",
       "      <td>...</td>\n",
       "      <td>...</td>\n",
       "      <td>...</td>\n",
       "      <td>...</td>\n",
       "    </tr>\n",
       "    <tr>\n",
       "      <th>4955</th>\n",
       "      <td>2019-12-19</td>\n",
       "      <td>TPE</td>\n",
       "      <td>1.655</td>\n",
       "      <td>1.671</td>\n",
       "      <td>1.625</td>\n",
       "      <td>1.630</td>\n",
       "      <td>3589331.0</td>\n",
       "      <td>43.609097</td>\n",
       "      <td>False</td>\n",
       "      <td>False</td>\n",
       "    </tr>\n",
       "    <tr>\n",
       "      <th>4956</th>\n",
       "      <td>2019-12-20</td>\n",
       "      <td>TPE</td>\n",
       "      <td>1.618</td>\n",
       "      <td>1.654</td>\n",
       "      <td>1.601</td>\n",
       "      <td>1.601</td>\n",
       "      <td>7055418.0</td>\n",
       "      <td>41.382488</td>\n",
       "      <td>False</td>\n",
       "      <td>False</td>\n",
       "    </tr>\n",
       "    <tr>\n",
       "      <th>4957</th>\n",
       "      <td>2019-12-23</td>\n",
       "      <td>TPE</td>\n",
       "      <td>1.600</td>\n",
       "      <td>1.629</td>\n",
       "      <td>1.581</td>\n",
       "      <td>1.586</td>\n",
       "      <td>4872952.0</td>\n",
       "      <td>40.238078</td>\n",
       "      <td>False</td>\n",
       "      <td>False</td>\n",
       "    </tr>\n",
       "    <tr>\n",
       "      <th>4958</th>\n",
       "      <td>2019-12-27</td>\n",
       "      <td>TPE</td>\n",
       "      <td>1.600</td>\n",
       "      <td>1.652</td>\n",
       "      <td>1.600</td>\n",
       "      <td>1.641</td>\n",
       "      <td>2459368.0</td>\n",
       "      <td>46.121585</td>\n",
       "      <td>False</td>\n",
       "      <td>False</td>\n",
       "    </tr>\n",
       "    <tr>\n",
       "      <th>4959</th>\n",
       "      <td>2019-12-30</td>\n",
       "      <td>TPE</td>\n",
       "      <td>1.641</td>\n",
       "      <td>1.657</td>\n",
       "      <td>1.634</td>\n",
       "      <td>1.640</td>\n",
       "      <td>2025602.0</td>\n",
       "      <td>46.032849</td>\n",
       "      <td>False</td>\n",
       "      <td>False</td>\n",
       "    </tr>\n",
       "  </tbody>\n",
       "</table>\n",
       "<p>4960 rows × 10 columns</p>\n",
       "</div>"
      ],
      "text/plain": [
       "           Date Ticker    Open    High     Low   Close     Volume        RSI  \\\n",
       "0    2019-01-02    ALR  53.150  55.150  52.900  55.000   187429.0  50.219851   \n",
       "1    2019-01-03    ALR  55.000  55.000  53.300  53.400   219807.0  45.128856   \n",
       "2    2019-01-04    ALR  53.900  55.000  53.900  54.750   127074.0  49.756946   \n",
       "3    2019-01-07    ALR  55.050  56.200  54.800  56.200   187654.0  54.223000   \n",
       "4    2019-01-08    ALR  55.650  56.200  54.900  55.950   168800.0  53.342603   \n",
       "...         ...    ...     ...     ...     ...     ...        ...        ...   \n",
       "4955 2019-12-19    TPE   1.655   1.671   1.625   1.630  3589331.0  43.609097   \n",
       "4956 2019-12-20    TPE   1.618   1.654   1.601   1.601  7055418.0  41.382488   \n",
       "4957 2019-12-23    TPE   1.600   1.629   1.581   1.586  4872952.0  40.238078   \n",
       "4958 2019-12-27    TPE   1.600   1.652   1.600   1.641  2459368.0  46.121585   \n",
       "4959 2019-12-30    TPE   1.641   1.657   1.634   1.640  2025602.0  46.032849   \n",
       "\n",
       "        Buy   Sell  \n",
       "0     False  False  \n",
       "1     False  False  \n",
       "2     False  False  \n",
       "3     False  False  \n",
       "4     False  False  \n",
       "...     ...    ...  \n",
       "4955  False  False  \n",
       "4956  False  False  \n",
       "4957  False  False  \n",
       "4958  False  False  \n",
       "4959  False  False  \n",
       "\n",
       "[4960 rows x 10 columns]"
      ]
     },
     "execution_count": 4,
     "metadata": {},
     "output_type": "execute_result"
    }
   ],
   "source": [
    "stock_data = pd.DataFrame(columns=['Date', 'Ticker', 'Open', 'High', 'Low', 'Close', 'Volume', 'RSI', 'Buy', 'Sell'])\n",
    "\n",
    "for ticker in wig20:\n",
    "    \"\"\" create Stock instance \"\"\"\n",
    "    ticker_stock = Stock(ticker)\n",
    "    \n",
    "    \"\"\" get prices from given time range \"\"\"\n",
    "    map_ = ticker_stock.ohlc.index.isin(time_range)\n",
    "    ticker_data = ticker_stock.ohlc[map_]\n",
    "    \n",
    "    \"\"\" calculate RSI using all available data \"\"\"\n",
    "    ticker_data = ticker_data.join(rsi(ticker_stock.ohlc))\n",
    "    \n",
    "    \"\"\" find Buy and Sell signals \"\"\"\n",
    "    ticker_data['Buy'] = rsi_cross_signals(ticker_data, 30, 'onrise')\n",
    "    ticker_data['Sell'] = rsi_cross_signals(ticker_data, 70, 'onrise')\n",
    "    \n",
    "    \"\"\" insert date and ticker \"\"\"\n",
    "    ticker_data.insert(0, 'Ticker', ticker)\n",
    "    ticker_data.insert(0, 'Date', ticker_data.index)\n",
    "    \n",
    "    \"\"\" collect data in one table \"\"\"\n",
    "    stock_data = stock_data.append(ticker_data, ignore_index=True)\n",
    "    \n",
    "stock_data"
   ]
  },
  {
   "cell_type": "code",
   "execution_count": 5,
   "metadata": {},
   "outputs": [
    {
     "data": {
      "text/plain": [
       "array([[<matplotlib.axes._subplots.AxesSubplot object at 0x000001B0790DD9A0>,\n",
       "        <matplotlib.axes._subplots.AxesSubplot object at 0x000001B078BB8E50>,\n",
       "        <matplotlib.axes._subplots.AxesSubplot object at 0x000001B078B182E0>],\n",
       "       [<matplotlib.axes._subplots.AxesSubplot object at 0x000001B078B43760>,\n",
       "        <matplotlib.axes._subplots.AxesSubplot object at 0x000001B078B50A90>,\n",
       "        <matplotlib.axes._subplots.AxesSubplot object at 0x000001B078B80E20>],\n",
       "       [<matplotlib.axes._subplots.AxesSubplot object at 0x000001B078B80F10>,\n",
       "        <matplotlib.axes._subplots.AxesSubplot object at 0x000001B07901B400>,\n",
       "        <matplotlib.axes._subplots.AxesSubplot object at 0x000001B079072C10>]],\n",
       "      dtype=object)"
      ]
     },
     "execution_count": 5,
     "metadata": {},
     "output_type": "execute_result"
    },
    {
     "data": {
      "image/png": "[encoded data removed]",
      "text/plain": [
       "<Figure size 432x288 with 9 Axes>"
      ]
     },
     "metadata": {},
     "output_type": "display_data"
    }
   ],
   "source": [
    "pd.plotting.scatter_matrix(stock_data[['Close', 'Volume', 'RSI']])"
   ]
  },
  {
   "cell_type": "markdown",
   "metadata": {},
   "source": [
    "## Extract close price changes after buy signal"
   ]
  },
  {
   "cell_type": "code",
   "execution_count": 6,
   "metadata": {},
   "outputs": [
    {
     "ename": "TypeError",
     "evalue": "'numpy.ndarray' object is not callable",
     "output_type": "error",
     "traceback": [
      "\u001b[1;31m---------------------------------------------------------------------------\u001b[0m",
      "\u001b[1;31mTypeError\u001b[0m                                 Traceback (most recent call last)",
      "\u001b[1;32m<ipython-input-6-5707be1a270b>\u001b[0m in \u001b[0;36m<module>\u001b[1;34m\u001b[0m\n\u001b[0;32m      1\u001b[0m \u001b[0mprice_change\u001b[0m \u001b[1;33m=\u001b[0m \u001b[0mpd\u001b[0m\u001b[1;33m.\u001b[0m\u001b[0mDataFrame\u001b[0m\u001b[1;33m(\u001b[0m\u001b[1;33m)\u001b[0m\u001b[1;33m\u001b[0m\u001b[1;33m\u001b[0m\u001b[0m\n\u001b[0;32m      2\u001b[0m \u001b[1;33m\u001b[0m\u001b[0m\n\u001b[1;32m----> 3\u001b[1;33m \u001b[1;32mfor\u001b[0m \u001b[0mdata\u001b[0m \u001b[1;32min\u001b[0m \u001b[0mstock_data\u001b[0m\u001b[1;33m.\u001b[0m\u001b[0mvalues\u001b[0m\u001b[1;33m(\u001b[0m\u001b[1;33m)\u001b[0m\u001b[1;33m:\u001b[0m\u001b[1;33m\u001b[0m\u001b[1;33m\u001b[0m\u001b[0m\n\u001b[0m\u001b[0;32m      4\u001b[0m     \u001b[0mbuy_map\u001b[0m \u001b[1;33m=\u001b[0m \u001b[0mdata\u001b[0m\u001b[1;33m[\u001b[0m\u001b[1;34m'Buy'\u001b[0m\u001b[1;33m]\u001b[0m\u001b[1;33m\u001b[0m\u001b[1;33m\u001b[0m\u001b[0m\n\u001b[0;32m      5\u001b[0m \u001b[1;33m\u001b[0m\u001b[0m\n",
      "\u001b[1;31mTypeError\u001b[0m: 'numpy.ndarray' object is not callable"
     ]
    }
   ],
   "source": [
    "price_change = pd.DataFrame()\n",
    "  \n",
    "for data in stock_data.values():\n",
    "    buy_map = data['Buy']\n",
    "    \n",
    "    \"\"\" for each buy signal \"\"\"\n",
    "    for buy in data[buy_map].index:\n",
    "        \n",
    "        \"\"\" get close price on the day of the signal and 30 following days (31 days together) \"\"\"\n",
    "        price_after_buy_signal = data.loc[buy:].head(31)['Close']\n",
    "        \n",
    "        \"\"\" reset index and transpose to a row \"\"\"\n",
    "        price_after_buy_signal = price_after_buy_signal.reset_index().drop(['Date'], axis=1)\n",
    "        price_after_buy_signal = price_after_buy_signal.transpose()\n",
    "        \n",
    "        \"\"\" collect all in one DataFrame \"\"\"\n",
    "        price_change = price_change.append(price_after_buy_signal, ignore_index=True)"
   ]
  },
  {
   "cell_type": "markdown",
   "metadata": {},
   "source": [
    "## Calculate relative price change"
   ]
  },
  {
   "cell_type": "code",
   "execution_count": null,
   "metadata": {},
   "outputs": [],
   "source": [
    "\"\"\" calculate price change relative to the price on the day of the signal \"\"\"\n",
    "price_change_relative = price_change.div(price_change.loc[:,0], axis=0)\n",
    "price_change_relative"
   ]
  },
  {
   "cell_type": "code",
   "execution_count": null,
   "metadata": {},
   "outputs": [],
   "source": [
    "price_change_relative.transpose().plot(legend=False)"
   ]
  },
  {
   "cell_type": "code",
   "execution_count": null,
   "metadata": {},
   "outputs": [],
   "source": [
    "price_change_relative.mean(axis=0).plot(legend=False)"
   ]
  },
  {
   "cell_type": "code",
   "execution_count": null,
   "metadata": {},
   "outputs": [],
   "source": []
  }
 ],
 "metadata": {
  "kernelspec": {
   "display_name": "Python 3",
   "language": "python",
   "name": "python3"
  },
  "language_info": {
   "codemirror_mode": {
    "name": "ipython",
    "version": 3
   },
   "file_extension": ".py",
   "mimetype": "text/x-python",
   "name": "python",
   "nbconvert_exporter": "python",
   "pygments_lexer": "ipython3",
   "version": "3.8.3"
  }
 },
 "nbformat": 4,
 "nbformat_minor": 4
}
